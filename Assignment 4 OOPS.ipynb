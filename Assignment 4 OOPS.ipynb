{
 "cells": [
  {
   "cell_type": "markdown",
   "id": "9142c186-5784-485b-a014-bdee0b933c10",
   "metadata": {},
   "source": [
    "Question 1 - What is Object-Oriented Programming (OOP)\n",
    "Answer - Object-Oriented Programming is a programming approach that organizes code around objects rather than just functions or logic. These objects represent real-world entities and can contain both data (attributes) and behavior (methods). OOP helps in making programs more modular, reusable, and easier to maintain.\n",
    "\n",
    "Question 2 - What is a class in OOP\n",
    "Answer - A class is like a blueprint or template for creating objects. It defines the attributes (data) and methods (functions) that the objects created from it will have.\n",
    "\n",
    "Question 3 - What is an object in OOP\n",
    "Answer - An object is an instance of a class. It is a real entity created from a class blueprint that contains actual values for the attributes and can use the class methods.\n",
    "\n",
    "Question 4 - What is the difference between abstraction and encapsulation\n",
    "Answer - Abstraction is hiding unnecessary details and showing only essential features to the user, while encapsulation is the practice of restricting access to some parts of an object and controlling how data is accessed or modified.\n",
    "\n",
    "Question 5 - What are dunder methods in Python\n",
    "Answer - Dunder methods are special methods in Python that have double underscores before and after their name. They allow objects to implement or customize built-in behavior like addition, string representation, or object destruction.\n",
    "\n",
    "Question 6 - Explain the concept of inheritance in OOP\n",
    "Answer - Inheritance is a mechanism where one class (child) can acquire the properties and methods of another class (parent). It allows code reuse and helps in building a hierarchical relationship between classes.\n",
    "\n",
    "Question 7 - What is polymorphism in OOP\n",
    "Answer - Polymorphism means many forms. It allows objects of different classes to be treated as objects of a common parent class and enables the same method or function to behave differently depending on the object calling it.\n",
    "\n",
    "Question 8 - How is encapsulation achieved in Python\n",
    "Answer - Encapsulation in Python is achieved by making attributes private using underscores and providing getter and setter methods to control access and modification of the data.\n",
    "\n",
    "Question 9 - What is a constructor in Python\n",
    "Answer - A constructor is a special method in a class that runs automatically when an object is created. It is used to initialize the attributes of the object.\n",
    "\n",
    "Question 10 - What are class and static methods in Python\n",
    "Answer - Class methods are methods that work with the class itself rather than an instance and are marked with @classmethod. Static methods do not access class or instance data and are independent functions defined inside the class with @staticmethod.\n",
    "\n",
    "Question 11 - What is method overloading in Python\n",
    "Answer - Method overloading is when multiple methods have the same name but different parameters. Python does not support traditional overloading, but it can be simulated using default arguments.\n",
    "\n",
    "Question 12 - What is method overriding in OOP\n",
    "Answer - Method overriding occurs when a child class provides its own version of a method that is already defined in the parent class. It allows the child class to change or extend the behavior of the parent method.\n",
    "\n",
    "Question 13 - What is a property decorator in Python\n",
    "Answer - The property decorator @property is used to define a method that can be accessed like an attribute. It helps in controlling access to attributes without changing how they are used externally.\n",
    "\n",
    "Question 14 - Why is polymorphism important in OOP\n",
    "Answer - Polymorphism allows flexibility and reusability in code. It enables objects of different classes to be treated uniformly, making programs easier to extend and maintain.\n",
    "\n",
    "Question 15 - What is an abstract class in Python\n",
    "Answer - An abstract class is a class that cannot be instantiated and usually contains one or more abstract methods. It serves as a blueprint for other classes to implement those methods.\n",
    "\n",
    "Question 16 - What are the advantages of OOP\n",
    "Answer - Advantages of OOP include code reusability, modularity, easy maintenance, flexibility, scalability, and the ability to model real-world problems effectively.\n",
    "\n",
    "Question 17 - What is the difference between a class variable and an instance variable\n",
    "Answer - A class variable is shared among all instances of a class, while an instance variable is unique to each object and stores data specific to that instance.\n",
    "\n",
    "Question 18 - What is multiple inheritance in Python\n",
    "Answer - Multiple inheritance is when a class inherits from more than one parent class, allowing it to access attributes and methods from multiple classes.\n",
    "\n",
    "Question 19 - Explain the purpose of __str__ and __repr__ methods in Python\n",
    "Answer - __str__ is used to provide a readable string representation of an object for humans, while __repr__ provides a formal or unambiguous string representation for developers, often used for debugging.\n",
    "\n",
    "Question 20 - What is the significance of the super() function in Python\n",
    "Answer - The super() function allows a child class to access methods or attributes of its parent class, helping in reusing code and extending parent functionality.\n",
    "\n",
    "Question 21 - What is the significance of the __del__ method in Python\n",
    "Answer - The __del__ method is a destructor that runs when an object is about to be destroyed. It is used to release resources or perform cleanup before the object is removed from memory.\n",
    "\n",
    "Question 22 - What is the difference between @staticmethod and @classmethod in Python\n",
    "Answer - @staticmethod defines a method that does not depend on class or instance data, while @classmethod defines a method that operates on the class itself, allowing access to class variables and other class methods.\n",
    "\n",
    "Question 23 - How does polymorphism work in Python with inheritance\n",
    "Answer - In Python, polymorphism with inheritance works when a child class overrides a parent class method. This allows the same method call to behave differently depending on the object, enabling flexible and dynamic code.\n",
    "\n",
    "Question 24 - What is method chaining in Python OOP\n",
    "Answer - Method chaining is when multiple methods are called sequentially on the same object in a single line, often by making each method return the object itself.\n",
    "\n",
    "Question 25 - What is the purpose of the __call__ method in Python\n",
    "Answer - The __call__ method allows an object to be called like a function. It makes objects behave like functions and can encapsulate actions within the object."
   ]
  },
  {
   "cell_type": "code",
   "execution_count": 16,
   "id": "8624f4a0-8428-4903-a26e-cdeb586ae896",
   "metadata": {},
   "outputs": [
    {
     "name": "stdout",
     "output_type": "stream",
     "text": [
      "Bark\n"
     ]
    }
   ],
   "source": [
    "#1. Create a parent class Animal with a method speak() that prints a generic message. Create a child class Dog that overrides the speak() method to print \"Bark!\".\n",
    "    \n",
    "class Animal:\n",
    "    def speak(self):\n",
    "        print(\"This animal makes a sound\")\n",
    "\n",
    "class Dog(Animal):\n",
    "    def speak(self):\n",
    "        print(\"Bark\")\n",
    "d = Dog()\n",
    "d.speak()"
   ]
  },
  {
   "cell_type": "code",
   "execution_count": 17,
   "id": "14b3e47a-062c-4358-867c-5f133f1b0ab7",
   "metadata": {},
   "outputs": [
    {
     "name": "stdout",
     "output_type": "stream",
     "text": [
      "Area = lxb\n",
      "Area = pi*r^2\n"
     ]
    }
   ],
   "source": [
    "#2. Write a program to create an abstract class Shape with a method area(). Derive classes Circle and Rectangle from it and implement the area() method in both.\n",
    "\n",
    "from abc import abstractmethod\n",
    "\n",
    "class Shape:\n",
    "    @abstractmethod\n",
    "    def area(self):\n",
    "        pass\n",
    "        \n",
    "class Rectangle(Shape):\n",
    "    def area(self):\n",
    "        print(\"Area = lxb\")\n",
    "\n",
    "class Circle(Shape):\n",
    "    def area(self):\n",
    "        print(\"Area = pi*r^2\")\n",
    "\n",
    "r = Rectangle()\n",
    "c = Circle()\n",
    "\n",
    "r.area()\n",
    "c.area()"
   ]
  },
  {
   "cell_type": "code",
   "execution_count": 18,
   "id": "24d91660-98cc-439d-aad3-9b7771bb5348",
   "metadata": {},
   "outputs": [
    {
     "name": "stdout",
     "output_type": "stream",
     "text": [
      "This is a Sedan with a Lithium battery\n"
     ]
    }
   ],
   "source": [
    "#3. Implement a multi-level inheritance scenario where a class Vehicle has an attribute type. Derive a class Car and further derive a class ElectricCar that adds a battery attribute\n",
    "class Vehicle:\n",
    "    def __init__(self,car_type):\n",
    "        self.car_type = car_type\n",
    "\n",
    "class Car(Vehicle):\n",
    "    def __init__(self,car_type):\n",
    "        super().__init__(car_type)\n",
    "        \n",
    "class ElectricCar(Car):\n",
    "    def __init__(self,car_type,battery):\n",
    "        super().__init__(car_type)\n",
    "        self.battery = battery\n",
    "\n",
    "    def printDetails(self):\n",
    "        car_type = self.car_type\n",
    "        battery = self.battery\n",
    "        print (f\"This is a {car_type} with a {battery} battery\") \n",
    "\n",
    "electric_car = ElectricCar(\"Sedan\",\"Lithium\")\n",
    "electric_car.printDetails()                           "
   ]
  },
  {
   "cell_type": "code",
   "execution_count": 19,
   "id": "f0a0fec2-c049-4a2d-baae-3aa9b52e8d71",
   "metadata": {},
   "outputs": [
    {
     "name": "stdout",
     "output_type": "stream",
     "text": [
      "Sparrow can fly\n",
      "Penguin can not fly\n"
     ]
    }
   ],
   "source": [
    "# 4. Demonstrate polymorphism by creating a base class Bird with a method fly(). Create two derived classes Sparrow and Penguin that override the fly() method.\n",
    "\n",
    "class Bird:\n",
    "    def fly(self):\n",
    "        print(\"Bird can fly\")\n",
    "        \n",
    "class Sparrow(Bird):\n",
    "    def fly(self):\n",
    "        print(\"Sparrow can fly\")\n",
    "\n",
    "class Penguin(Bird):\n",
    "    def fly(slef):\n",
    "        print(\"Penguin can not fly\")\n",
    "\n",
    "s = Sparrow()\n",
    "p = Penguin()\n",
    "\n",
    "s.fly()\n",
    "p.fly()"
   ]
  },
  {
   "cell_type": "code",
   "execution_count": 20,
   "id": "2d62cfb0-16da-4507-8ef1-786cd126e302",
   "metadata": {},
   "outputs": [
    {
     "name": "stdout",
     "output_type": "stream",
     "text": [
      "Initial Balance 20000\n",
      "New Balance after deposit 40000\n",
      "Initial Balance 40000\n",
      "New Balance after withdraw 35000\n",
      "Final Balance 35000\n"
     ]
    }
   ],
   "source": [
    "# 5. Write a program to demonstrate encapsulation by creating a class BankAccount with private attributes balance and methods to deposit, withdraw, and check balance.\n",
    "    \n",
    "class BankAccount:\n",
    "    def __init__(self,balance):\n",
    "        self.__balance = balance\n",
    "    def deposit(self,amount):\n",
    "        print(f\"Initial Balance {self.__balance}\")\n",
    "        self.__balance += amount\n",
    "        print(f\"New Balance after deposit {self.__balance}\")\n",
    "        \n",
    "    def withdraw(self,amount):\n",
    "        print(f\"Initial Balance {self.__balance}\")\n",
    "        self.__balance -= amount\n",
    "        print(f\"New Balance after withdraw {self.__balance}\")\n",
    "\n",
    "    def checkBalance(self):\n",
    "        print(f\"Final Balance {self.__balance}\")\n",
    "\n",
    "b = BankAccount(20000)\n",
    "b.deposit(20000)\n",
    "b.withdraw(5000)\n",
    "b.checkBalance()\n",
    "        "
   ]
  },
  {
   "cell_type": "code",
   "execution_count": 21,
   "id": "31d601c8-6d71-4b6b-8d95-9dc04a9b071a",
   "metadata": {},
   "outputs": [
    {
     "name": "stdout",
     "output_type": "stream",
     "text": [
      "Instrument can be played\n",
      "Guitar can be played\n",
      "Piano can be played\n"
     ]
    }
   ],
   "source": [
    "# 6. Demonstrate runtime polymorphism using a method play() in a base class Instrument. Derive classes Guitar and Piano that implement their own version of play().\n",
    "\n",
    "class Instrument:\n",
    "    def Play(self):\n",
    "        print(\"Instrument can be played\")\n",
    "class Guitar(Instrument):\n",
    "    def Play(self):\n",
    "        print(\"Guitar can be played\")\n",
    "class Piano(Instrument):\n",
    "    def Play(self):\n",
    "        print(\"Piano can be played\")\n",
    "\n",
    "i = Instrument()\n",
    "g = Guitar()\n",
    "p = Piano()\n",
    "\n",
    "i.Play()\n",
    "g.Play()\n",
    "p.Play()"
   ]
  },
  {
   "cell_type": "code",
   "execution_count": 22,
   "id": "8d41b946-a19d-4e29-8a28-d39dff5e203f",
   "metadata": {},
   "outputs": [
    {
     "name": "stdout",
     "output_type": "stream",
     "text": [
      "Addition: 15\n",
      "Subtraction: 5\n"
     ]
    }
   ],
   "source": [
    "# 7. Create a class MathOperations with a class method add_numbers() to add two numbers and a static method subtract_numbers() to subtract two numbers.\n",
    "\n",
    "class MathOperations:\n",
    "\n",
    "    @classmethod\n",
    "    def add_numbers(cls, a, b):\n",
    "        return a + b\n",
    "\n",
    "    @staticmethod\n",
    "    def subtract_numbers(a, b):\n",
    "        return a - b\n",
    "\n",
    "result_add = MathOperations.add_numbers(10, 5)\n",
    "print(\"Addition:\", result_add)\n",
    "\n",
    "result_subtract = MathOperations.subtract_numbers(10, 5)\n",
    "print(\"Subtraction:\", result_subtract)\n"
   ]
  },
  {
   "cell_type": "code",
   "execution_count": 23,
   "id": "84953e4d-cefd-4cf4-8881-5f8e2085ea34",
   "metadata": {},
   "outputs": [
    {
     "name": "stdout",
     "output_type": "stream",
     "text": [
      "Total person is 3\n"
     ]
    }
   ],
   "source": [
    "# 8. Implement a class Person with a class method to count the total number of persons created.\n",
    "\n",
    "class Person:\n",
    "    total_person = 0\n",
    "    def __init__(self):\n",
    "        Person.total_person += 1\n",
    "\n",
    "    @classmethod\n",
    "    def count_person(cls):\n",
    "        print(f\"Total person is {cls.total_person}\")\n",
    "\n",
    "p = Person()\n",
    "p1 = Person()\n",
    "p2 = Person()\n",
    "p.count_person()\n",
    "    "
   ]
  },
  {
   "cell_type": "code",
   "execution_count": 24,
   "id": "2cd45502-8edd-4970-ad32-3bd1cb5cecba",
   "metadata": {},
   "outputs": [
    {
     "name": "stdout",
     "output_type": "stream",
     "text": [
      "3/4\n"
     ]
    }
   ],
   "source": [
    "# 9. Write a class Fraction with attributes numerator and denominator. Override the str method to display the fraction as \"numerator/denominator\".\n",
    "    \n",
    "class Fraction:\n",
    "    def __init__(self, numerator, denominator):\n",
    "        self.numerator = numerator\n",
    "        self.denominator = denominator\n",
    "    def __str__(self):\n",
    "        return (f\"{self.numerator}/{self.denominator}\")\n",
    "\n",
    "f = Fraction(3,4)\n",
    "print(f)"
   ]
  },
  {
   "cell_type": "code",
   "execution_count": 25,
   "id": "2d9e1dde-834c-4ce7-bf61-6b03654fa0cb",
   "metadata": {},
   "outputs": [
    {
     "name": "stdout",
     "output_type": "stream",
     "text": [
      "(3, 5)\n"
     ]
    }
   ],
   "source": [
    "# 10. Demonstrate operator overloading by creating a class Vector and overriding the add method to add two vectors.\n",
    "    \n",
    "class Vector:\n",
    "    def __init__(self,x,y):\n",
    "        self.x = x\n",
    "        self.y = y\n",
    "    def __add__(self,other):\n",
    "        return Vector(self.x+other.x,self.y+other.y)\n",
    "    def __str__(self):\n",
    "        return f\"({self.x}, {self.y})\"\n",
    "        \n",
    "v1 = Vector(1,2)\n",
    "v2 = Vector(2,3)\n",
    "v3 = v1+v2\n",
    "print(v3)"
   ]
  },
  {
   "cell_type": "code",
   "execution_count": 26,
   "id": "fb3ed346-8f07-4ed7-bf75-329a91496467",
   "metadata": {},
   "outputs": [
    {
     "name": "stdout",
     "output_type": "stream",
     "text": [
      "Hello my name is Manvendra I 23 years old\n"
     ]
    }
   ],
   "source": [
    "# 11. Create a class Person with attributes name and age. Add a method greet() that prints \"Hello, my name is {name} and I am {age} years old.\"\n",
    "\n",
    "class Person:\n",
    "    def __init__(self,name,age):\n",
    "        self.name = name\n",
    "        self.age = age\n",
    "    def greet(self):\n",
    "        name = self.name\n",
    "        age = self.age\n",
    "        print(f\"Hello my name is {name} I {age} years old\")\n",
    "\n",
    "p = Person(\"Manvendra\",23)\n",
    "p.greet()"
   ]
  },
  {
   "cell_type": "code",
   "execution_count": 27,
   "id": "df114455-7084-4c0f-a50b-a9fe7f5b7b74",
   "metadata": {},
   "outputs": [
    {
     "name": "stdout",
     "output_type": "stream",
     "text": [
      "Average of Manvendra is 86.4\n"
     ]
    }
   ],
   "source": [
    "#12. Implement a class Student with attributes name and grades. Create a method average_grade() to compute the average of the grades.\n",
    "\n",
    "class Student:\n",
    "    def __init__(self,name,grades):\n",
    "        self.name = name\n",
    "        self.grades = grades\n",
    "    def average_grade(self):\n",
    "        name = self.name\n",
    "        grades = self.grades\n",
    "        total=0\n",
    "        for grade in grades:\n",
    "            total+=grade\n",
    "        average = total/(len(grades))\n",
    "        print(f\"Average of {name} is {average}\")\n",
    "\n",
    "s = Student(\"Manvendra\",[80,90,88,96,78])\n",
    "s.average_grade()"
   ]
  },
  {
   "cell_type": "code",
   "execution_count": 28,
   "id": "22f0fd42-1fa3-4c12-a6ce-e37ced01cf4b",
   "metadata": {},
   "outputs": [
    {
     "name": "stdout",
     "output_type": "stream",
     "text": [
      "Area = 50\n"
     ]
    }
   ],
   "source": [
    "#13. Create a class Rectangle with methods set_dimensions() to set the dimensions and area() to calculate the area.\n",
    "    \n",
    "class Rectangle:\n",
    "    def __init__(self):\n",
    "        self.length = 0\n",
    "        self.width = 0\n",
    "    def set_dimensions(self,length,width):\n",
    "        self.length = length\n",
    "        self.width = width\n",
    "    def area(self):\n",
    "        print(f\"Area = {self.length*self.width}\")\n",
    "r = Rectangle()\n",
    "r.set_dimensions(5,10)\n",
    "r.area()"
   ]
  },
  {
   "cell_type": "code",
   "execution_count": 29,
   "id": "5f5b460f-c4f5-4dfc-ba64-e34e2b77b5ef",
   "metadata": {},
   "outputs": [
    {
     "name": "stdout",
     "output_type": "stream",
     "text": [
      "Total salary is 2100\n"
     ]
    }
   ],
   "source": [
    "# 14. Create a class Employee with a method calculate_salary() that computes the salary based on hours worked and hourly rate. Create a derived class Manager that adds a bonus to the salary.\n",
    "\n",
    "class Employee:\n",
    "    def __init__(self, hours_worked, hourly_rate):\n",
    "        self.hours_worked = hours_worked\n",
    "        self.hourly_rate = hourly_rate\n",
    "    def calculate_salary(self):\n",
    "        return self.hours_worked*self.hourly_rate\n",
    "\n",
    "class Manager(Employee):\n",
    "    def add_bonus(self,bonus):\n",
    "        total = self.calculate_salary() + bonus\n",
    "        print(f\"Total salary is {total}\")\n",
    "\n",
    "m = Manager(40,50)\n",
    "m.add_bonus(100)"
   ]
  },
  {
   "cell_type": "code",
   "execution_count": 31,
   "id": "efa05e25-b248-4b57-aa9e-f03c09ce3ffd",
   "metadata": {},
   "outputs": [
    {
     "name": "stdout",
     "output_type": "stream",
     "text": [
      "total price of Laptop is 350000\n"
     ]
    }
   ],
   "source": [
    "# 15. Create a class Product with attributes name, price, and quantity. Implement a method total_price() that calculates the total price of the product.\n",
    "\n",
    "class Product:\n",
    "    def __init__(self,name,price,quantity):\n",
    "        self.name = name\n",
    "        self.price = price\n",
    "        self.quantity = quantity\n",
    "    def total_price(self):\n",
    "        print(f\"total price of {self.name} is {self.price*self.quantity}\")\n",
    "\n",
    "p = Product(\"Laptop\",5,70000)\n",
    "p.total_price()"
   ]
  },
  {
   "cell_type": "code",
   "execution_count": 32,
   "id": "b45fe3e8-a923-4473-bc96-c144a1a7ec78",
   "metadata": {},
   "outputs": [
    {
     "name": "stdout",
     "output_type": "stream",
     "text": [
      "Moo\n",
      "Baa\n"
     ]
    }
   ],
   "source": [
    "# 16. Create a class Animal with an abstract method sound(). Create two derived classes Cow and Sheep that implement the sound() method.\n",
    "    \n",
    "from abc import ABC, abstractmethod\n",
    "\n",
    "class Animal(ABC):\n",
    "    @abstractmethod\n",
    "    def sound(self):\n",
    "        pass\n",
    "\n",
    "class Cow(Animal):\n",
    "    def sound(self):\n",
    "        return \"Moo\"\n",
    "\n",
    "class Sheep(Animal):\n",
    "    def sound(self):\n",
    "        return \"Baa\"\n",
    "cow = Cow()\n",
    "sheep = Sheep()\n",
    "print(cow.sound()) \n",
    "print(sheep.sound())"
   ]
  },
  {
   "cell_type": "code",
   "execution_count": 33,
   "id": "9cffa2e4-13b6-4d74-a8b2-1800f3b228b6",
   "metadata": {},
   "outputs": [
    {
     "name": "stdout",
     "output_type": "stream",
     "text": [
      "'1984' by George Orwell, published in 1949\n"
     ]
    }
   ],
   "source": [
    "#17. Create a class Book with attributes title, author, and year_published. Add a method get_book_info() that returns a formatted string with the book's details.\n",
    "class Book:\n",
    "    def __init__(self, title, author, year_published):\n",
    "        self.title = title\n",
    "        self.author = author\n",
    "        self.year_published = year_published\n",
    "\n",
    "    def get_book_info(self):\n",
    "        return f\"'{self.title}' by {self.author}, published in {self.year_published}\"\n",
    "\n",
    "book = Book(\"1984\", \"George Orwell\", 1949)\n",
    "print(book.get_book_info())\n"
   ]
  },
  {
   "cell_type": "code",
   "execution_count": 34,
   "id": "ccb6e331-fc10-4e4b-9767-da8e6daf0c7d",
   "metadata": {},
   "outputs": [
    {
     "name": "stdout",
     "output_type": "stream",
     "text": [
      "123 Palm Street\n",
      "1000000\n",
      "10\n"
     ]
    }
   ],
   "source": [
    "#18. Create a class House with attributes address and price. Create a derived class Mansion that adds an attribute number_of_rooms.\n",
    "class House:\n",
    "    def __init__(self, address, price):\n",
    "        self.address = address\n",
    "        self.price = price\n",
    "\n",
    "class Mansion(House):\n",
    "    def __init__(self, address, price, number_of_rooms):\n",
    "        super().__init__(address, price)\n",
    "        self.number_of_rooms = number_of_rooms\n",
    "        \n",
    "mansion = Mansion(\"123 Palm Street\", 1000000, 10)\n",
    "print(mansion.address) \n",
    "print(mansion.price)\n",
    "print(mansion.number_of_rooms)\n"
   ]
  },
  {
   "cell_type": "code",
   "execution_count": null,
   "id": "9f4b2a65-e956-4881-ac97-cd477bf6eccd",
   "metadata": {},
   "outputs": [],
   "source": []
  }
 ],
 "metadata": {
  "kernelspec": {
   "display_name": "Python 3 (ipykernel)",
   "language": "python",
   "name": "python3"
  },
  "language_info": {
   "codemirror_mode": {
    "name": "ipython",
    "version": 3
   },
   "file_extension": ".py",
   "mimetype": "text/x-python",
   "name": "python",
   "nbconvert_exporter": "python",
   "pygments_lexer": "ipython3",
   "version": "3.12.10"
  }
 },
 "nbformat": 4,
 "nbformat_minor": 5
}
